{
 "cells": [
  {
   "cell_type": "code",
   "execution_count": 13,
   "metadata": {},
   "outputs": [
    {
     "name": "stdout",
     "output_type": "stream",
     "text": [
      "-3.0\n"
     ]
    }
   ],
   "source": [
    "import pandas as pd\n",
    "\n",
    "weight1 = 3.0\n",
    "weight2 = 4.0\n",
    "bias = -10.0\n",
    "learning = 0.1\n",
    "count = 0\n",
    "x = 1\n",
    "y = 1\n",
    "value = weight1 * x + weight2*y +bias\n",
    "print(value)"
   ]
  },
  {
   "cell_type": "code",
   "execution_count": 14,
   "metadata": {},
   "outputs": [
    {
     "name": "stdout",
     "output_type": "stream",
     "text": [
      "-2.700000000000001\n",
      "-2.4000000000000012\n",
      "-2.1000000000000014\n",
      "-1.8000000000000025\n",
      "-1.5000000000000036\n",
      "-1.2000000000000028\n",
      "-0.9000000000000039\n",
      "-0.600000000000005\n",
      "-0.30000000000000604\n",
      "-7.105427357601002e-15\n",
      "0.29999999999999183\n",
      "count 11\n"
     ]
    }
   ],
   "source": [
    "while(value<0):\n",
    "    weight1 =weight1 + learning * x\n",
    "    weight2 =weight2 + learning * y\n",
    "    bias = bias + learning\n",
    "    value = weight1 * x + weight2*y +bias\n",
    "    count +=1\n",
    "    print(value)\n",
    "print(\"count \"+ str(count))"
   ]
  },
  {
   "cell_type": "code",
   "execution_count": 1,
   "metadata": {},
   "outputs": [],
   "source": [
    "import numpy as np\n",
    "\n",
    "# Write a function that takes as input a list of numbers, and returns\n",
    "# the list of values given by the softmax function.\n",
    "def softmax(L):\n",
    "    l_np = np.array(L)\n",
    "    for num in l_np:\n",
    "        num =np.exp(num)/np.sum(np.exp(l_np))\n",
    "    return l_np"
   ]
  },
  {
   "cell_type": "code",
   "execution_count": null,
   "metadata": {},
   "outputs": [],
   "source": []
  }
 ],
 "metadata": {
  "kernelspec": {
   "display_name": "Python [conda root]",
   "language": "python",
   "name": "conda-root-py"
  },
  "language_info": {
   "codemirror_mode": {
    "name": "ipython",
    "version": 3
   },
   "file_extension": ".py",
   "mimetype": "text/x-python",
   "name": "python",
   "nbconvert_exporter": "python",
   "pygments_lexer": "ipython3",
   "version": "3.6.5"
  }
 },
 "nbformat": 4,
 "nbformat_minor": 2
}
